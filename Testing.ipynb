{
 "cells": [
  {
   "cell_type": "code",
   "execution_count": 2,
   "id": "civil-wells",
   "metadata": {
    "ExecuteTime": {
     "end_time": "2024-07-11T04:49:36.952462Z",
     "start_time": "2024-07-11T04:49:33.491144Z"
    }
   },
   "outputs": [
    {
     "data": {
      "text/plain": [
       "<askquinta.connector.ArangoDB.About_ArangoDB at 0x7f19505d2090>"
      ]
     },
     "execution_count": 2,
     "metadata": {},
     "output_type": "execute_result"
    }
   ],
   "source": [
    "from askquinta import About_ArangoDB\n",
    "\n",
    "\"\"\"\n",
    "    arango_url (str): The URL of the ArangoDB server.\n",
    "        By default, the arango_url will be obtained from the environment variable 'arango_replicate_config_url'.\n",
    "    username (str): The username to connect to the ArangoDB server.\n",
    "        By default, the username will be obtained from the environment variable 'arango_replicate_config_username'.\n",
    "    password (str): The password associated with the username.\n",
    "        By default, the password will be obtained from the environment variable 'arango_replicate_config_password'.\n",
    "\"\"\"\n",
    "\n",
    "ArangoDB = About_ArangoDB(\n",
    "        arango_url='https://arangodb-replication.paper.id/',\n",
    "        username='metabase',\n",
    "        password='PaperMetabase#2021',\n",
    "    )\n",
    "\n",
    "ArangoDB"
   ]
  },
  {
   "cell_type": "code",
   "execution_count": null,
   "id": "sealed-affiliate",
   "metadata": {},
   "outputs": [],
   "source": []
  },
  {
   "cell_type": "code",
   "execution_count": 16,
   "id": "future-writing",
   "metadata": {
    "ExecuteTime": {
     "end_time": "2024-07-11T04:53:05.759150Z",
     "start_time": "2024-07-11T04:53:04.289584Z"
    }
   },
   "outputs": [],
   "source": [
    "query = \"\"\"for i in bri_onboarding_data \n",
    "            for j in bri_onboarding_document\n",
    "                FILTER i._id == j.bri_onboarding_id\n",
    "                return {'company_id':i.company_id,\n",
    "                        'email':i.email,\n",
    "                        'doc':j.uploaded_documents.salary_slip}\"\"\"\n",
    "data = ArangoDB.to_pull_data('paper_bank_account',query, batch_size=100000)"
   ]
  },
  {
   "cell_type": "code",
   "execution_count": 17,
   "id": "beneficial-canberra",
   "metadata": {
    "ExecuteTime": {
     "end_time": "2024-07-11T04:53:07.192430Z",
     "start_time": "2024-07-11T04:53:07.183574Z"
    },
    "scrolled": true
   },
   "outputs": [
    {
     "data": {
      "text/html": [
       "<div>\n",
       "<style scoped>\n",
       "    .dataframe tbody tr th:only-of-type {\n",
       "        vertical-align: middle;\n",
       "    }\n",
       "\n",
       "    .dataframe tbody tr th {\n",
       "        vertical-align: top;\n",
       "    }\n",
       "\n",
       "    .dataframe thead th {\n",
       "        text-align: right;\n",
       "    }\n",
       "</style>\n",
       "<table border=\"1\" class=\"dataframe\">\n",
       "  <thead>\n",
       "    <tr style=\"text-align: right;\">\n",
       "      <th></th>\n",
       "      <th>company_id</th>\n",
       "      <th>email</th>\n",
       "      <th>doc</th>\n",
       "    </tr>\n",
       "  </thead>\n",
       "  <tbody>\n",
       "    <tr>\n",
       "      <th>0</th>\n",
       "      <td>c51d9b0d-f7a8-4754-abf3-383a382407d0</td>\n",
       "      <td>atiqahfira.paper@gmail.com</td>\n",
       "      <td>data:application/pdf;base64,JVBERi0xLjMKMSAwIG...</td>\n",
       "    </tr>\n",
       "    <tr>\n",
       "      <th>1</th>\n",
       "      <td>5976b2b5-88b8-475c-8f42-985db86d958e</td>\n",
       "      <td>iqbal.ghaniya@paper.id</td>\n",
       "      <td>data:application/pdf;base64,JVBERi0xLjMKMSAwIG...</td>\n",
       "    </tr>\n",
       "    <tr>\n",
       "      <th>2</th>\n",
       "      <td>ed39a69e-71f3-4d6e-b68f-63c47414228c</td>\n",
       "      <td>al4142.paper@gmail.com</td>\n",
       "      <td>data:application/pdf;base64,JVBERi0xLjMKMSAwIG...</td>\n",
       "    </tr>\n",
       "    <tr>\n",
       "      <th>3</th>\n",
       "      <td>71b117e0-a1fd-11e9-a48b-f78913570cd7</td>\n",
       "      <td>andrew@paper.id</td>\n",
       "      <td>data:application/pdf;base64,JVBERi0xLjMKMSAwIG...</td>\n",
       "    </tr>\n",
       "    <tr>\n",
       "      <th>4</th>\n",
       "      <td>8082f3e0-e74b-11e9-b1da-2d3c9a2f506d</td>\n",
       "      <td>kristofer.haliansyah@paper.id</td>\n",
       "      <td>data:application/pdf;base64,JVBERi0xLjMKMSAwIG...</td>\n",
       "    </tr>\n",
       "    <tr>\n",
       "      <th>...</th>\n",
       "      <td>...</td>\n",
       "      <td>...</td>\n",
       "      <td>...</td>\n",
       "    </tr>\n",
       "    <tr>\n",
       "      <th>2079</th>\n",
       "      <td>75da8f67-ad44-4b4d-89ad-da71cbb34351</td>\n",
       "      <td>hukotara@yahoo.com</td>\n",
       "      <td>data:application/pdf;base64,JVBERi0xLjMKMSAwIG...</td>\n",
       "    </tr>\n",
       "    <tr>\n",
       "      <th>2080</th>\n",
       "      <td>b6f0fd69-d682-4a1b-b77e-be04c6cb0cf3</td>\n",
       "      <td>liustevenn28@gmail.com</td>\n",
       "      <td>data:application/pdf;base64,JVBERi0xLjMKMSAwIG...</td>\n",
       "    </tr>\n",
       "    <tr>\n",
       "      <th>2081</th>\n",
       "      <td>ff977abc-d014-424a-a7c5-dbe4635e55b6</td>\n",
       "      <td>ocinz8888@gmail.com</td>\n",
       "      <td>data:application/pdf;base64,JVBERi0xLjMKMSAwIG...</td>\n",
       "    </tr>\n",
       "    <tr>\n",
       "      <th>2082</th>\n",
       "      <td>56f4366b-a0f3-40c2-ae43-743e0973cae0</td>\n",
       "      <td>adityamawan21@gmail.com</td>\n",
       "      <td>data:application/pdf;base64,JVBERi0xLjMKMSAwIG...</td>\n",
       "    </tr>\n",
       "    <tr>\n",
       "      <th>2083</th>\n",
       "      <td>0b2b4369-10ad-42a9-b4d4-c3441744273d</td>\n",
       "      <td>asmauas@gmail.com</td>\n",
       "      <td>data:application/pdf;base64,JVBERi0xLjMKMSAwIG...</td>\n",
       "    </tr>\n",
       "  </tbody>\n",
       "</table>\n",
       "<p>2084 rows × 3 columns</p>\n",
       "</div>"
      ],
      "text/plain": [
       "                                company_id                          email  \\\n",
       "0     c51d9b0d-f7a8-4754-abf3-383a382407d0     atiqahfira.paper@gmail.com   \n",
       "1     5976b2b5-88b8-475c-8f42-985db86d958e         iqbal.ghaniya@paper.id   \n",
       "2     ed39a69e-71f3-4d6e-b68f-63c47414228c         al4142.paper@gmail.com   \n",
       "3     71b117e0-a1fd-11e9-a48b-f78913570cd7                andrew@paper.id   \n",
       "4     8082f3e0-e74b-11e9-b1da-2d3c9a2f506d  kristofer.haliansyah@paper.id   \n",
       "...                                    ...                            ...   \n",
       "2079  75da8f67-ad44-4b4d-89ad-da71cbb34351             hukotara@yahoo.com   \n",
       "2080  b6f0fd69-d682-4a1b-b77e-be04c6cb0cf3         liustevenn28@gmail.com   \n",
       "2081  ff977abc-d014-424a-a7c5-dbe4635e55b6            ocinz8888@gmail.com   \n",
       "2082  56f4366b-a0f3-40c2-ae43-743e0973cae0        adityamawan21@gmail.com   \n",
       "2083  0b2b4369-10ad-42a9-b4d4-c3441744273d              asmauas@gmail.com   \n",
       "\n",
       "                                                    doc  \n",
       "0     data:application/pdf;base64,JVBERi0xLjMKMSAwIG...  \n",
       "1     data:application/pdf;base64,JVBERi0xLjMKMSAwIG...  \n",
       "2     data:application/pdf;base64,JVBERi0xLjMKMSAwIG...  \n",
       "3     data:application/pdf;base64,JVBERi0xLjMKMSAwIG...  \n",
       "4     data:application/pdf;base64,JVBERi0xLjMKMSAwIG...  \n",
       "...                                                 ...  \n",
       "2079  data:application/pdf;base64,JVBERi0xLjMKMSAwIG...  \n",
       "2080  data:application/pdf;base64,JVBERi0xLjMKMSAwIG...  \n",
       "2081  data:application/pdf;base64,JVBERi0xLjMKMSAwIG...  \n",
       "2082  data:application/pdf;base64,JVBERi0xLjMKMSAwIG...  \n",
       "2083  data:application/pdf;base64,JVBERi0xLjMKMSAwIG...  \n",
       "\n",
       "[2084 rows x 3 columns]"
      ]
     },
     "execution_count": 17,
     "metadata": {},
     "output_type": "execute_result"
    }
   ],
   "source": [
    "data"
   ]
  },
  {
   "cell_type": "code",
   "execution_count": 49,
   "id": "exposed-miller",
   "metadata": {
    "ExecuteTime": {
     "end_time": "2024-07-11T06:17:25.735612Z",
     "start_time": "2024-07-11T06:17:25.726360Z"
    }
   },
   "outputs": [
    {
     "data": {
      "text/html": [
       "<div>\n",
       "<style scoped>\n",
       "    .dataframe tbody tr th:only-of-type {\n",
       "        vertical-align: middle;\n",
       "    }\n",
       "\n",
       "    .dataframe tbody tr th {\n",
       "        vertical-align: top;\n",
       "    }\n",
       "\n",
       "    .dataframe thead th {\n",
       "        text-align: right;\n",
       "    }\n",
       "</style>\n",
       "<table border=\"1\" class=\"dataframe\">\n",
       "  <thead>\n",
       "    <tr style=\"text-align: right;\">\n",
       "      <th></th>\n",
       "      <th>company_id</th>\n",
       "      <th>email</th>\n",
       "      <th>doc</th>\n",
       "    </tr>\n",
       "  </thead>\n",
       "  <tbody>\n",
       "    <tr>\n",
       "      <th>3</th>\n",
       "      <td>71b117e0-a1fd-11e9-a48b-f78913570cd7</td>\n",
       "      <td>andrew@paper.id</td>\n",
       "      <td>data:application/pdf;base64,JVBERi0xLjMKMSAwIG...</td>\n",
       "    </tr>\n",
       "    <tr>\n",
       "      <th>8</th>\n",
       "      <td>b8a66c86-66fe-4a17-8c08-f92fa2a3d127</td>\n",
       "      <td>andrewsojonathan@gmail.com</td>\n",
       "      <td>data:application/pdf;base64,JVBERi0xLjMKMSAwIG...</td>\n",
       "    </tr>\n",
       "    <tr>\n",
       "      <th>1333</th>\n",
       "      <td>724beae4-8188-4319-a639-5854af3016b0</td>\n",
       "      <td>andrewjualan@gmail.com</td>\n",
       "      <td>data:application/pdf;base64,JVBERi0xLjMKMSAwIG...</td>\n",
       "    </tr>\n",
       "    <tr>\n",
       "      <th>1695</th>\n",
       "      <td>c4084c75-c875-4f35-9be0-f7d4b03d597f</td>\n",
       "      <td>andrew.salim07@gmail.com</td>\n",
       "      <td>data:application/pdf;base64,JVBERi0xLjMKMSAwIG...</td>\n",
       "    </tr>\n",
       "  </tbody>\n",
       "</table>\n",
       "</div>"
      ],
      "text/plain": [
       "                                company_id                       email  \\\n",
       "3     71b117e0-a1fd-11e9-a48b-f78913570cd7             andrew@paper.id   \n",
       "8     b8a66c86-66fe-4a17-8c08-f92fa2a3d127  andrewsojonathan@gmail.com   \n",
       "1333  724beae4-8188-4319-a639-5854af3016b0      andrewjualan@gmail.com   \n",
       "1695  c4084c75-c875-4f35-9be0-f7d4b03d597f    andrew.salim07@gmail.com   \n",
       "\n",
       "                                                    doc  \n",
       "3     data:application/pdf;base64,JVBERi0xLjMKMSAwIG...  \n",
       "8     data:application/pdf;base64,JVBERi0xLjMKMSAwIG...  \n",
       "1333  data:application/pdf;base64,JVBERi0xLjMKMSAwIG...  \n",
       "1695  data:application/pdf;base64,JVBERi0xLjMKMSAwIG...  "
      ]
     },
     "execution_count": 49,
     "metadata": {},
     "output_type": "execute_result"
    }
   ],
   "source": [
    "# William Wibien Djojo\n",
    "data[data['email'].transform(lambda s:'andrew' in s)]"
   ]
  },
  {
   "cell_type": "code",
   "execution_count": 48,
   "id": "particular-backup",
   "metadata": {
    "ExecuteTime": {
     "end_time": "2024-07-11T06:16:15.801204Z",
     "start_time": "2024-07-11T06:16:15.792771Z"
    },
    "scrolled": false
   },
   "outputs": [
    {
     "name": "stderr",
     "output_type": "stream",
     "text": [
      "/home/yogi/.local/lib/python3.12/site-packages/IPython/core/display.py:431: UserWarning: Consider using IPython.display.IFrame instead\n",
      "  warnings.warn(\"Consider using IPython.display.IFrame instead\")\n"
     ]
    },
    {
     "data": {
      "text/html": [
       "<iframe src=\"output.pdf\" width=\"100%\" height=\"600px\"></iframe>"
      ],
      "text/plain": [
       "<IPython.core.display.HTML object>"
      ]
     },
     "metadata": {},
     "output_type": "display_data"
    }
   ],
   "source": [
    "base64_string = (data[data['email'].transform(lambda s: 'daniel.riandy98@gmail.com' in s)]['doc'].values[0])\n",
    "\n",
    "from IPython.display import display, HTML\n",
    "import base64\n",
    "\n",
    "# Base64 data (truncated for example purposes, use full base64 string in real usage)\n",
    "pdf_base64 = base64_string.replace('data:application/pdf;base64,','')\n",
    "\n",
    "# Decode the base64 string\n",
    "pdf_bytes = base64.b64decode(pdf_base64)\n",
    "\n",
    "# Save the PDF bytes to a file\n",
    "pdf_filename = 'output.pdf'\n",
    "with open(pdf_filename, 'wb') as f:\n",
    "    f.write(pdf_bytes)\n",
    "\n",
    "# Display the PDF in Jupyter Notebook\n",
    "display(HTML(f'<iframe src=\"{pdf_filename}\" width=\"100%\" height=\"600px\"></iframe>'))\n",
    "\n"
   ]
  },
  {
   "cell_type": "code",
   "execution_count": null,
   "id": "bridal-pressing",
   "metadata": {},
   "outputs": [],
   "source": []
  }
 ],
 "metadata": {
  "kernelspec": {
   "display_name": "Python 3.12",
   "language": "python",
   "name": "python3.12"
  },
  "language_info": {
   "codemirror_mode": {
    "name": "ipython",
    "version": 3
   },
   "file_extension": ".py",
   "mimetype": "text/x-python",
   "name": "python",
   "nbconvert_exporter": "python",
   "pygments_lexer": "ipython3",
   "version": "3.12.0"
  }
 },
 "nbformat": 4,
 "nbformat_minor": 5
}
